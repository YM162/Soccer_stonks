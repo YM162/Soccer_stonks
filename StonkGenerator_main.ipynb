{
 "cells": [
  {
   "cell_type": "code",
   "execution_count": null,
   "metadata": {
    "scrolled": true
   },
   "outputs": [
    {
     "name": "stdout",
     "output_type": "stream",
     "text": [
      "Generador de Stonks automático by 4G\n",
      "\n",
      "Stonks generados: 2973 (+8)\n",
      "\n",
      "Entrenamiento completado\n",
      "Entrenamiento completado\n",
      "Entrenamiento completado\n",
      "Entrenamiento completado\n",
      "Entrenamiento completado\n",
      "Entrenamiento completado\n",
      "Entrenamiento completado\n",
      "Estamina gastada\n"
     ]
    }
   ],
   "source": [
    "#Hack estrellas infinitas\n",
    "\n",
    "import requests\n",
    "import random\n",
    "import string\n",
    "from time import sleep\n",
    "from random import randint\n",
    "from IPython.display import clear_output\n",
    "def randomString(stringLength=8):\n",
    "    letters = string.ascii_lowercase\n",
    "    return ''.join(random.choice(letters) for i in range(stringLength))\n",
    "stonks = 0\n",
    "while stonks != -1 :\n",
    "    leave = False\n",
    "    name =randomString(10)\n",
    "    passw =\"czgcrbmwyi\"\n",
    "    correo=randomString(10)+\"@gmail.com\"\n",
    "    r = requests.get(\"http://w1.soccerstar.com/request.php?req=00000000000000000000000000000000%7CaccountCreate:\"+name+\"/\"+passw+\"/\"+correo+\"///\"+str(randint(1,4))+\"/en%26face%3A5/\"+str(randint(1,3))+\"/\"+str(randint(1,2))+\"/1/1/\"+str(randint(1,5))+\"/\"+str(randint(1,5))+\"/3/0/3/\"+str(randint(1,7))+\"/\"+str(randint(1,4))+\"/2/2/0/\"+str(randint(1,4))+\"/0\")\n",
    "    sessionpos = r.text.find(\"SessionID:\")\n",
    "    sessionid = r.text[sessionpos+10:sessionpos+42]\n",
    "    r = requests.get(\"http://w1.soccerstar.com/request.php?req=00000000000000000000000000000000%7Clogin%3AStonks/d48c589d0444aa258eff46170f442440/0/en\")\n",
    "    sessionpos = r.text.find(\"SessionID:\")\n",
    "    sessionidclub = r.text[sessionpos+10:sessionpos+42]\n",
    "    \n",
    "    \n",
    "    i=0\n",
    "    while i < 15:\n",
    "        requests.get(\"http://w1.soccerstar.com/request.php?req=\"+sessionid+\"%7CtrainStart:1\")\n",
    "        r = requests.get(\"http://w1.soccerstar.com/request.php?req=\"+sessionid+\"%7CtrainDone:1\")\n",
    "        if \"JobReward:\" in r.text:\n",
    "            print(\"Entrenamiento completado\")\n",
    "        if \"Error:not working\" in r.text:\n",
    "            print(\"Estamina gastada\")\n",
    "            break\n",
    "        if \"Error:invalid command\" in r.text:\n",
    "            print(\"Servidor saturado, esperando 30s\")\n",
    "            sleep(30)\n",
    "            leave=True\n",
    "            break\n",
    "        i=i+1\n",
    "    if leave == True:\n",
    "        continue\n",
    "    \n",
    "    \n",
    "    requests.get(\"http://w1.soccerstar.com/request.php?req=\"+sessionidclub+\"%7CclubMemberInvite%3A0/\"+name+\"/0\")\n",
    "    requests.get(\"http://w1.soccerstar.com/request.php?req=\"+sessionid+\"%7CclubMemberJoin:15881\")\n",
    "    requests.get(\"http://w1.soccerstar.com/request.php?req=\"+sessionid+\"%7CclubSpend:\"+str(i)+\"/2\")\n",
    "    requests.get(\"http://w1.soccerstar.com/request.php?req=\"+sessionid+\"%7CclubMemberLeave:\")\n",
    "    requests.get(\"http://w1.soccerstar.com/request.php?req=\"+sessionid+\"%7CaccountDelete%3A\"+name+\"/d48c589d0444aa258eff46170f442440/\"+correo)\n",
    "    stonks = stonks+i\n",
    "    clear_output(wait=True)\n",
    "    print(\"Generador de Stonks automático by 4G\")\n",
    "    print()\n",
    "    print(\"Stonks generados: \"+str(stonks)+\" (+\"+str(i)+\")\")\n",
    "    print()\n"
   ]
  },
  {
   "cell_type": "code",
   "execution_count": null,
   "metadata": {},
   "outputs": [],
   "source": [
    "\n"
   ]
  }
 ],
 "metadata": {
  "kernelspec": {
   "display_name": "Python 3",
   "language": "python",
   "name": "python3"
  },
  "language_info": {
   "codemirror_mode": {
    "name": "ipython",
    "version": 3
   },
   "file_extension": ".py",
   "mimetype": "text/x-python",
   "name": "python",
   "nbconvert_exporter": "python",
   "pygments_lexer": "ipython3",
   "version": "3.7.3"
  }
 },
 "nbformat": 4,
 "nbformat_minor": 2
}
