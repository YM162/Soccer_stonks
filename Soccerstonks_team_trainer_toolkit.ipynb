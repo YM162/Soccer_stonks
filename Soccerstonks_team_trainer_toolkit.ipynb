{
 "cells": [
  {
   "cell_type": "code",
   "execution_count": null,
   "metadata": {},
   "outputs": [],
   "source": [
    "#Bot entrenador de personajes\n",
    "import requests\n",
    "import random\n",
    "import string\n",
    "from time import sleep\n",
    "from random import randint\n",
    "from IPython.display import clear_output\n",
    "\n",
    "def randomString(stringLength=8):\n",
    "    letters = string.ascii_lowercase\n",
    "    return ''.join(random.choice(letters) for i in range(stringLength))\n",
    "\n",
    "with open('soccernames.txt', 'r') as f:\n",
    "    name = f.read().splitlines()\n",
    "posiciones=[\"4\",\"3\",\"3\",\"3\",\"2\",\"2\",\"2\",\"2\",\"1\",\"1\",\"1\"]\n",
    "passw =\"czgcrbmwyi\""
   ]
  },
  {
   "cell_type": "code",
   "execution_count": null,
   "metadata": {},
   "outputs": [],
   "source": [
    "#Crear 11 cuentas equipo\n",
    "\n",
    "for i in list(range(len(name))):\n",
    "    if posiciones[i] != \"4\":\n",
    "        correo=randomString(10)+\"@gmail.com\"\n",
    "        r = requests.get(\"http://w1.soccerstar.com/request.php?req=00000000000000000000000000000000%7CaccountCreate:\"+name[i]+\"/\"+passw+\"/\"+correo+\"///\"+posiciones[i]+\"/en%26face%3A\"+str(randint(1,5))+\"/\"+str(randint(1,3))+\"/\"+str(randint(1,2))+\"/1/1/\"+str(randint(1,5))+\"/\"+str(randint(1,5))+\"/3/0/3/\"+str(randint(1,7))+\"/\"+str(randint(1,4))+\"/2/2/0/\"+str(randint(1,4))+\"/0\")\n",
    "        print(r.text)\n",
    "        sleep(3)"
   ]
  },
  {
   "cell_type": "code",
   "execution_count": null,
   "metadata": {},
   "outputs": [],
   "source": [
    "#Invitar al equipo a los 11\n",
    "r = requests.get(\"http://w1.soccerstar.com/request.php?req=00000000000000000000000000000000%7Clogin%3AStonks/d48c589d0444aa258eff46170f442440/0/en\")\n",
    "sessionpos = r.text.find(\"SessionID:\")\n",
    "sessionidclub = r.text[sessionpos+10:sessionpos+42]\n",
    "\n",
    "for i in list(range(len(name))):\n",
    "    if posiciones[i] != \"4\":\n",
    "        requests.get(\"http://w1.soccerstar.com/request.php?req=\"+sessionidclub+\"%7CclubMemberInvite%3A0/\"+name[i]+\"/0\")\n"
   ]
  },
  {
   "cell_type": "code",
   "execution_count": null,
   "metadata": {},
   "outputs": [],
   "source": [
    "#Entrar los 11 al equipo\n",
    "for i in list(range(len(name))):\n",
    "    if posiciones[i] != \"4\":\n",
    "        r = requests.get(\"http://w1.soccerstar.com/request.php?req=00000000000000000000000000000000%7Clogin%3A\"+name[i]+\"/d48c589d0444aa258eff46170f442440/0/en\")\n",
    "        sessionpos = r.text.find(\"SessionID:\")\n",
    "        sessionid = r.text[sessionpos+10:sessionpos+42]\n",
    "        requests.get(\"http://w1.soccerstar.com/request.php?req=\"+sessionid+\"%7CclubMemberJoin:22623\")\n",
    "        print(r.text)\n",
    "        sleep(3)"
   ]
  },
  {
   "cell_type": "code",
   "execution_count": null,
   "metadata": {},
   "outputs": [],
   "source": [
    "#Obtener lista de session id\n",
    "sessionids=[]\n",
    "for i in list(range(len(name))):\n",
    "    r = requests.get(\"http://w1.soccerstar.com/request.php?req=00000000000000000000000000000000%7Clogin%3A\"+name[i]+\"/d48c589d0444aa258eff46170f442440/0/en\")\n",
    "    sessionpos = r.text.find(\"SessionID:\")\n",
    "    sessionids.append(r.text[sessionpos+10:sessionpos+42])"
   ]
  },
  {
   "cell_type": "code",
   "execution_count": null,
   "metadata": {},
   "outputs": [],
   "source": [
    "t=0\n",
    "res=0\n",
    "for i in list(range(len(name))):\n",
    "    res=0\n",
    "    t=1\n",
    "    requests.get(\"https://w1.soccerstar.com/request.php?req=\"+sessionids[i]+\"%7CjobFinish:0\")\n",
    "    while t < 9999:\n",
    "        requests.get(\"http://w1.soccerstar.com/request.php?req=\"+sessionids[i]+\"%7CtrainStart:1\")\n",
    "        \n",
    "        r = requests.get(\"http://w1.soccerstar.com/request.php?req=\"+sessionids[i]+\"%7CtrainDone:1\")\n",
    "        \n",
    "        if \"JobReward:\" in r.text:\n",
    "            print(\"Entrenamiento completado\")\n",
    "        if \"Error:not working\" in r.text:\n",
    "            print(\"Estamina gastada\")\n",
    "            if res < 2:\n",
    "                #recuperar stamina\n",
    "                #print(\"Estamina recuperada\")\n",
    "                res=res+1\n",
    "                continue\n",
    "            print(\"Siguiente jugador\")\n",
    "            requests.get(\"http://w1.soccerstar.com/request.php?req=\"+sessionids[i]+\"%7CjobStart:10\")\n",
    "            break\n",
    "        t=t+1"
   ]
  },
  {
   "cell_type": "code",
   "execution_count": null,
   "metadata": {},
   "outputs": [],
   "source": [
    "print(\"terminado\")\n"
   ]
  },
  {
   "cell_type": "code",
   "execution_count": null,
   "metadata": {},
   "outputs": [],
   "source": [
    "from threading import Thread\n",
    "from time import sleep\n",
    "\n",
    "def func1(sessionid):\n",
    "    while t < 9999:\n",
    "        r= requests.get(\"http://w1.soccerstar.com/request.php?req=\"+sessionids[i]+\"%7CitemMove%3A3/4/5/0\")\n",
    "        pos = r.text.find(\"SaveGamePlayer:\")\n",
    "        r.text[pos+15:].split(\"/\")\n",
    "        r= requests.get(\"http://w1.soccerstar.com/request.php?req=\"+sessionids[i]+\"%7CtrainStart:1\")\n",
    "        espera=\n",
    "        sleep(espera+2)\n",
    "        r = requests.get(\"http://w1.soccerstar.com/request.php?req=\"+sessionids[i]+\"%7CtrainDone:0\")\n",
    "        \n",
    "        if \"JobReward:\" in r.text:\n",
    "            print(\"Entrenamiento completado\")\n",
    "        if \"Error:not working\" in r.text:\n",
    "            print(\"Estamina gastada\")\n",
    "            if res < 2:\n",
    "                #recuperar stamina\n",
    "                #print(\"Estamina recuperada\")\n",
    "                res=res+1\n",
    "                continue\n",
    "            print(\"Siguiente jugador\")\n",
    "            #requests.get(\"http://w1.soccerstar.com/request.php?req=\"+sessionids[i]+\"%7CjobStart:10\")\n",
    "            break\n",
    "        t=t+1"
   ]
  }
 ],
 "metadata": {
  "kernelspec": {
   "display_name": "Python 3",
   "language": "python",
   "name": "python3"
  },
  "language_info": {
   "codemirror_mode": {
    "name": "ipython",
    "version": 3
   },
   "file_extension": ".py",
   "mimetype": "text/x-python",
   "name": "python",
   "nbconvert_exporter": "python",
   "pygments_lexer": "ipython3",
   "version": "3.8.5"
  }
 },
 "nbformat": 4,
 "nbformat_minor": 2
}
